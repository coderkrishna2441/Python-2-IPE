{
 "cells": [
  {
   "cell_type": "markdown",
   "id": "06336495-8989-4f5c-bfd8-2084d704f0a5",
   "metadata": {},
   "source": [
    " For the given fakepython html file, write a python program using BeautifulSoup library and perform following tasks \r\n",
    "1.       Import beautifulsoup library. Attach the given html file\r\n",
    " 2.       Scrape the given html and extract all Python related job titles and print them.\r\n",
    " 3.       Extract all job titles, locations and companies and print them.\r\n",
    " 4.       Create a pandas data frame with the details of python related job titles, locations and companies"
   ]
  },
  {
   "cell_type": "code",
   "execution_count": null,
   "id": "7286a957-81e4-4a2a-8704-2334eee5178d",
   "metadata": {},
   "outputs": [],
   "source": [
    "from bs4 import BeautifulSoup\n",
    "import pandas as pd\n",
    "\n",
    "# Replace 'fakepython.html' with the actual path to your HTML file\n",
    "with open('fakepython.html', 'r') as f:\n",
    "    content = f.read()\n",
    "\n",
    "soup = BeautifulSoup(content, 'html.parser')\n",
    "\n",
    "# 1. Extract Python job titles\n",
    "python_job_titles = soup.find_all('h2', text=lambda text: 'Python' in text)\n",
    "for title in python_job_titles:\n",
    "    print(title.text)\n",
    "\n",
    "# 2. Extract job titles, locations, and companies\n",
    "job_data = []\n",
    "for job in soup.find_all('div', class_='job'):\n",
    "    title = job.find('h2').text\n",
    "    location = job.find('span', class_='location').text\n",
    "    company = job.find('span', class_='company').text\n",
    "    job_data.append((title, location, company))\n",
    "\n",
    "# 3. Print job data\n",
    "for title, location, company in job_data:\n",
    "    print(f\"Job Title: {title}, Location: {location}, Company: {company}\")\n",
    "\n",
    "# 4. Create a pandas DataFrame\n",
    "df = pd.DataFrame(job_data, columns=['Job Title', 'Location', 'Company'])\n",
    "print(df)"
   ]
  }
 ],
 "metadata": {
  "kernelspec": {
   "display_name": "Python 3 (ipykernel)",
   "language": "python",
   "name": "python3"
  },
  "language_info": {
   "codemirror_mode": {
    "name": "ipython",
    "version": 3
   },
   "file_extension": ".py",
   "mimetype": "text/x-python",
   "name": "python",
   "nbconvert_exporter": "python",
   "pygments_lexer": "ipython3",
   "version": "3.11.7"
  }
 },
 "nbformat": 4,
 "nbformat_minor": 5
}
