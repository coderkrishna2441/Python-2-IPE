{
 "cells": [
  {
   "cell_type": "markdown",
   "id": "8867d429-fa51-4e41-aeca-ab855c67219f",
   "metadata": {},
   "source": [
    " For the given Quotes to Scrape.html file, write a python program using BeautifulSoup library and perform following tasks -  \r\n",
    "1.       Import beautifulsoup library. Attach the given html file  \r\n",
    "2.       Scrape the given html and extract all Quotes. \r\n",
    "3.       Extract all Quotes and authors and print them. \r\n",
    "4.       Create a pandas data frame with the details of Quotes and authors."
   ]
  },
  {
   "cell_type": "code",
   "execution_count": null,
   "id": "c53c5288-52f3-495c-897d-988c26211a72",
   "metadata": {},
   "outputs": [],
   "source": [
    "from bs4 import BeautifulSoup\n",
    "import pandas as pd\n",
    "\n",
    "# Replace 'Quotes to Scrape.html' with the actual path to your HTML file\n",
    "with open('Quotes to Scrape.html', 'r') as f:\n",
    "    content = f.read()\n",
    "\n",
    "soup = BeautifulSoup(content, 'html.parser')\n",
    "\n",
    "# 1. Extract Quotes\n",
    "quotes = soup.find_all('span', class_='text')\n",
    "for quote in quotes:\n",
    "    print(quote.text)\n",
    "\n",
    "# 2. Extract Quotes and authors\n",
    "quote_data = []\n",
    "for quote in soup.find_all('div', class_='quote'):\n",
    "    text = quote.find('span', class_='text').text\n",
    "    author = quote.find('span', class_='author').text\n",
    "    quote_data.append((text, author))\n",
    "\n",
    "# 3. Print quote data\n",
    "for text, author in quote_data:\n",
    "    print(f\"Quote: {text}, Author: {author}\")\n",
    "\n",
    "# 4. Create a pandas DataFrame\n",
    "df = pd.DataFrame(quote_data, columns=['Quote', 'Author'])\n",
    "print(df)"
   ]
  }
 ],
 "metadata": {
  "kernelspec": {
   "display_name": "Python 3 (ipykernel)",
   "language": "python",
   "name": "python3"
  },
  "language_info": {
   "codemirror_mode": {
    "name": "ipython",
    "version": 3
   },
   "file_extension": ".py",
   "mimetype": "text/x-python",
   "name": "python",
   "nbconvert_exporter": "python",
   "pygments_lexer": "ipython3",
   "version": "3.11.7"
  }
 },
 "nbformat": 4,
 "nbformat_minor": 5
}
