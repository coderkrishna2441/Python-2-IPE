{
 "cells": [
  {
   "cell_type": "markdown",
   "id": "2ec9bc6c-c151-40ce-86da-971105c99bb9",
   "metadata": {},
   "source": [
    "1. Using the sample data for years and sales, create an area plot to visualize the trend in sales over the years. What insights can you gather from this area plot (answer as a comment)? \r\n",
    " \r\n",
    "2. Utilizing the data in category1, category2, and category3, create a box plot using Matplotlib. How does the box plot reveal the distribution and potential outliers in these three categories\r\n",
    " (answer as a comment)? \r\n",
    " \r\n",
    "3. Using the generated data for x and y, create a scatter plot with Matplotlib. What patterns or correlations, if any, can you observe between the x and y values in this scatter plot (answer as a\r\n",
    " comment)? \r\n",
    " \r\n",
    "4. Employ the sample data to create a heatmap using Seaborn. What does the heatmap convey about the relationships between the values in the data matrix (answer as a comment)? \r\n",
    " \r\n",
    "5. With the height and weight data, generate a regression plot using Seaborn. What conclusions can be drawn about the relationship between height and weight from this plot (answer as a\r\n",
    " comment)?\r\n"
   ]
  },
  {
   "cell_type": "code",
   "execution_count": null,
   "id": "b9943ed9-cf63-47e5-bf55-abd14759126b",
   "metadata": {},
   "outputs": [],
   "source": [
    "import random\n",
    "import matplotlib.pyplot as plt\n",
    "import seaborn as sns"
   ]
  },
  {
   "cell_type": "code",
   "execution_count": null,
   "id": "a356eef8-add9-433c-bb56-b88d6f47a855",
   "metadata": {},
   "outputs": [],
   "source": [
    "# Sample data for box plot \n",
    "category1 = [random.randint(1, 50) for _ in range(50)] \n",
    "category2 = [random.randint(25, 75) for _ in range(50)] \n",
    "category3 = [random.randint(50, 100) for _ in range(50)] \n",
    "\n",
    "plt.figure(figsize=(10, 6))\n",
    "plt.boxplot([category1, category2, category3])\n",
    "plt.title(\"Distribution of Categories\")\n",
    "plt.xlabel(\"Category\")\n",
    "plt.ylabel(\"Value\")\n",
    "plt.xticks([1, 2, 3], labels=[\"Category 1\", \"Category 2\", \"Category 3\"])\n",
    "plt.show()"
   ]
  },
  {
   "cell_type": "code",
   "execution_count": null,
   "id": "41cc8ac1-61fe-4203-b592-c66a41272f69",
   "metadata": {},
   "outputs": [],
   "source": [
    "# Sample data for area plot \n",
    "years = [2010, 2011, 2012, 2013, 2014] \n",
    "sales = [200, 300, 450, 350, 500] \n",
    "\n",
    "plt.figure(figsize=(10, 6))\n",
    "plt.fill_between(years, sales, color=\"skyblue\", alpha=0.4)\n",
    "plt.plot(years, sales, color=\"blue\", marker=\"o\")\n",
    "plt.title(\"Sales Trend Over the Years\")\n",
    "plt.xlabel(\"Year\")\n",
    "plt.ylabel(\"Sales\")\n",
    "plt.grid(True)\n",
    "plt.show()"
   ]
  },
  {
   "cell_type": "code",
   "execution_count": null,
   "id": "f59fb8c9-4f84-44e0-a75a-f3e0fe98c0e8",
   "metadata": {},
   "outputs": [],
   "source": [
    "# Sample data for scatter plot \n",
    "x = [random.uniform(0, 10) for _ in range(50)] \n",
    "y = [random.uniform(0, 10) for _ in range(50)] \n",
    "\n",
    "plt.figure(figsize=(8, 6))\n",
    "plt.scatter(x, y, alpha=0.7)\n",
    "plt.title(\"Scatter Plot of x and y\")\n",
    "plt.xlabel(\"x\")\n",
    "plt.ylabel(\"y\")\n",
    "plt.grid(True)\n",
    "plt.show()"
   ]
  },
  {
   "cell_type": "code",
   "execution_count": 5,
   "id": "cfe017f0-46b0-4725-9952-4e7e4515af43",
   "metadata": {},
   "outputs": [],
   "source": [
    "# Sample data for heatmap \n",
    "import numpy as np \n",
    "data = np.random.rand(5, 5) \n",
    "\n",
    "plt.figure(figsize=(8, 6))\n",
    "sns.heatmap(data, annot=True, cmap=\"viridis\")\n",
    "plt.title(\"Heatmap of Data Matrix\")\n",
    "plt.show()"
   ]
  },
  {
   "cell_type": "code",
   "execution_count": null,
   "id": "182bcb66-395b-4179-9d4c-63d5a4678063",
   "metadata": {},
   "outputs": [],
   "source": [
    "# Sample data for regression plot \n",
    "height = [160, 165, 170, 175, 180, 185] \n",
    "weight = [60, 65, 70, 75, 80, 85] \n",
    "\n",
    "sns.regplot(x=height, y=weight)\n",
    "plt.title(\"Regression Plot of Height and Weight\")\n",
    "plt.xlabel(\"Height\")\n",
    "plt.ylabel(\"Weight\")\n",
    "plt.show()"
   ]
  }
 ],
 "metadata": {
  "kernelspec": {
   "display_name": "Python 3 (ipykernel)",
   "language": "python",
   "name": "python3"
  },
  "language_info": {
   "codemirror_mode": {
    "name": "ipython",
    "version": 3
   },
   "file_extension": ".py",
   "mimetype": "text/x-python",
   "name": "python",
   "nbconvert_exporter": "python",
   "pygments_lexer": "ipython3",
   "version": "3.11.7"
  }
 },
 "nbformat": 4,
 "nbformat_minor": 5
}
