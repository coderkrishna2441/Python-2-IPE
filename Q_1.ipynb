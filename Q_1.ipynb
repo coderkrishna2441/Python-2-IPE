{
 "cells": [
  {
   "cell_type": "markdown",
   "id": "85882b3d-1078-4e01-aee0-a4f6e25e71b7",
   "metadata": {},
   "source": [
    " Use the file data.csv which contains 169 rows and 4 columns.  \r",
    "    \n",
    "1. Convert this file into pandas Data Frame and Display basic statistics like mean, std, quartiles, etc. for this data frame.      \r\n",
    "2. Print first and last 5 rows. Also print the shape of the dataframe.     \r\n",
    "3. Create a correlation table for the data frame and comment about what kind of correlation is there between Duration and Calories?      \r\n",
    "4. Find whether there any null or NA values, drop all such rows if found in the data frame and print the shape of the data frame after dropping    .  \r\n",
    "5. Prepare a scatter matrix for the following data fra    me. \r\n",
    "6. Prepare a parallel coordinates for Duration v/s Pulse, Maxpulse and Calories (all 3 other colum    ns). \r\n",
    "7. Prepare a cross-tabulation for Duration v/s P    ulse. \r\n",
    "8. Do Maxpulse have any outliers? Find using function"
   ]
  },
  {
   "cell_type": "code",
   "execution_count": null,
   "id": "d509c122-ea68-4585-96f3-33fac4df93c5",
   "metadata": {},
   "outputs": [],
   "source": [
    "# import all modules\n",
    "import pandas as pd\n",
    "import seaborn as sns\n",
    "import pandas_profiling as pp\n",
    "import numpy as np"
   ]
  },
  {
   "cell_type": "code",
   "execution_count": null,
   "id": "46ff3a8e-b580-4306-bfb3-7c97faeecba0",
   "metadata": {},
   "outputs": [],
   "source": [
    "# read csv file and create dataframe\n",
    "df = pd.read_csv(\"data.csv\")\n",
    "\n",
    "# Display basic statistics\n",
    "print(df.describe())"
   ]
  },
  {
   "cell_type": "code",
   "execution_count": 3,
   "id": "cc0565ae-fda7-4f4a-859b-371a454c479a",
   "metadata": {},
   "outputs": [],
   "source": [
    "# print first and last 5 rows and print the shape\n",
    "print(\"First 5 rows:\\n\", df.head())\n",
    "print(\"\\nLast 5 rows:\\n\", df.tail())\n",
    "print(\"\\nShape:\", df.shape)"
   ]
  },
  {
   "cell_type": "code",
   "execution_count": 4,
   "id": "a8dd42a7-77ab-4221-aa29-0396c5cf0164",
   "metadata": {},
   "outputs": [],
   "source": [
    "# Create a correlation table\n",
    "correlation_matrix = df.corr()\n",
    "print(correlation_matrix)\n",
    "\n",
    "# Analyze the correlation between Duration and Calories\n",
    "duration_calories_correlation = correlation_matrix['Duration']['Calories']\n",
    "print(f\"\\nCorrelation between Duration and Calories: {duration_calories_correlation}\")"
   ]
  },
  {
   "cell_type": "code",
   "execution_count": 5,
   "id": "e059e708-969f-48ec-a0d6-7da1bcc217d2",
   "metadata": {},
   "outputs": [],
   "source": [
    "# find null values and drop them from table\n",
    "\n",
    "print(df.isnull().sum())\n",
    "df = df.dropna()\n",
    "\n",
    "# Print the new shape\n",
    "print(\"\\nShape after dropping missing values:\", df.shape)"
   ]
  },
  {
   "cell_type": "code",
   "execution_count": 6,
   "id": "bde8f671-c915-4eb6-95e6-9c338562ac35",
   "metadata": {},
   "outputs": [],
   "source": [
    "# Prepare a scatter matrix\n",
    "sns.pairplot(df)"
   ]
  },
  {
   "cell_type": "code",
   "execution_count": 7,
   "id": "b4cd1e8c-e922-4367-b5f0-5390a7b4e87b",
   "metadata": {},
   "outputs": [],
   "source": [
    "# Prepare a parallel coordinates for Duration v/s Pulse, Maxpulse and Calories\n",
    "pp.ProfileReport(df).to_file('data_profile.html')"
   ]
  },
  {
   "cell_type": "code",
   "execution_count": 8,
   "id": "1a5f76aa-456b-41c7-b8e3-b89ba24cb681",
   "metadata": {},
   "outputs": [],
   "source": [
    "# Prepare a cross-tabulation for Duration v/s Pulse.\n",
    "cross_tab = pd.crosstab(df['Duration'], df['Pulse'])\n",
    "print(cross_tab)"
   ]
  },
  {
   "cell_type": "code",
   "execution_count": 9,
   "id": "6d6b6fe9-954b-4021-b35c-18c68ea86118",
   "metadata": {},
   "outputs": [],
   "source": [
    "# Do Maxpulse have any outliers\n",
    "\n",
    "\n",
    "Q1 = df['Maxpulse'].quantile(0.25)\n",
    "Q3 = df['Maxpulse'].quantile(0.75)\n",
    "IQR = Q3 - Q1\n",
    "outlier_threshold = 1.5 * IQR\n",
    "outliers = df[(df['Maxpulse'] < Q1 - outlier_threshold) | (df['Maxpulse'] > Q3 + outlier_threshold)]\n",
    "\n",
    "print(\"Outliers in Maxpulse:\\n\", outliers)"
   ]
  }
 ],
 "metadata": {
  "kernelspec": {
   "display_name": "Python 3 (ipykernel)",
   "language": "python",
   "name": "python3"
  },
  "language_info": {
   "codemirror_mode": {
    "name": "ipython",
    "version": 3
   },
   "file_extension": ".py",
   "mimetype": "text/x-python",
   "name": "python",
   "nbconvert_exporter": "python",
   "pygments_lexer": "ipython3",
   "version": "3.11.7"
  }
 },
 "nbformat": 4,
 "nbformat_minor": 5
}
