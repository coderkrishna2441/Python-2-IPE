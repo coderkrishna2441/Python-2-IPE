{
 "cells": [
  {
   "cell_type": "markdown",
   "id": "1c3f273a-f639-487b-bc59-a8541fc21856",
   "metadata": {},
   "source": [
    " Consider variables x and y created from a pandas dataframe  “car.csv” .\r\n",
    " Create new column named “Age_car” (Age_car=2023-year)\r\n",
    "  For multiple linear regression problem, x contains the independent variables ( Age_car , Driven_kms , Fuel_Type , Selling_type , Transmission ) and y contains the dependent (Selling_Price)\r\n",
    " variable which is to be predicted.Write a Python program to spilt x and y into training and testing datasets with a 20% split. Then create a multiple linear regression model using the training data\r\n",
    " and print its coefficients ,intercept and mean squared error.\r\n"
   ]
  },
  {
   "cell_type": "code",
   "execution_count": null,
   "id": "6c3e16a2-91cd-4ec5-a0c8-e95568ff3e66",
   "metadata": {},
   "outputs": [],
   "source": [
    "import pandas as pd\n",
    "from sklearn.model_selection import train_test_split\n",
    "from sklearn.linear_model import LinearRegression\n",
    "from sklearn.metrics import mean_squared_error\n",
    "\n",
    "# Load the data\n",
    "df = pd.read_csv(\"car.csv\")\n",
    "\n",
    "# Create a new column \"Age_car\"\n",
    "df['Age_car'] = 2023 - df['year']\n",
    "\n",
    "# Split the data into features and target variable\n",
    "X = df[['Age_car', 'Driven_kms', 'Fuel_Type', 'Selling_type', 'Transmission']]\n",
    "y = df['Selling_Price']\n",
    "\n",
    "# Convert categorical variables to numerical if necessary\n",
    "# For example:\n",
    "# X = pd.get_dummies(X, columns=['Fuel_Type', 'Selling_type', 'Transmission'])\n",
    "\n",
    "# Split the data into training and testing sets\n",
    "X_train, X_test, y_train, y_test = train_test_split(X, y, test_size=0.2, random_state=42)\n",
    "\n",
    "# Create and train the multiple linear regression model\n",
    "model = LinearRegression()\n",
    "model.fit(X_train, y_train)\n",
    "\n",
    "# Print coefficients, intercept, and mean squared error\n",
    "coefficients = model.coef_\n",
    "intercept = model.intercept_\n",
    "mse = mean_squared_error(y_test, model.predict(X_test))\n",
    "\n",
    "print(\"Coefficients:\", coefficients)\n",
    "print(\"Intercept:\", intercept)\n",
    "print(\"Mean Squared Error:\", mse)"
   ]
  }
 ],
 "metadata": {
  "kernelspec": {
   "display_name": "Python 3 (ipykernel)",
   "language": "python",
   "name": "python3"
  },
  "language_info": {
   "codemirror_mode": {
    "name": "ipython",
    "version": 3
   },
   "file_extension": ".py",
   "mimetype": "text/x-python",
   "name": "python",
   "nbconvert_exporter": "python",
   "pygments_lexer": "ipython3",
   "version": "3.11.7"
  }
 },
 "nbformat": 4,
 "nbformat_minor": 5
}
